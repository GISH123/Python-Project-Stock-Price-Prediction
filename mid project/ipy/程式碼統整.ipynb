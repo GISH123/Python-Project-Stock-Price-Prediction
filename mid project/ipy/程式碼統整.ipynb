{
 "cells": [
  {
   "cell_type": "markdown",
   "metadata": {},
   "source": [
    "# 首先， 我先把加權指數三年的股價取出"
   ]
  },
  {
   "cell_type": "code",
   "execution_count": 1,
   "metadata": {},
   "outputs": [],
   "source": [
    "import numpy as np\n",
    "import pandas as pd\n",
    "\n",
    "filename = r'C:\\Users\\User\\Desktop\\大數據與商業分析\\mid tern\\stock_data.xlsx'"
   ]
  },
  {
   "cell_type": "code",
   "execution_count": 2,
   "metadata": {},
   "outputs": [],
   "source": [
    "df = pd.read_excel(\tfilename,\n",
    "\t\t\t\t\tsheet_name = u'上市2018' ,\n",
    "\t\t\t\t\t# name = ['證券代碼', u'年月日', u'開盤價(元)', u'最高價(元)', u'最低價(元)', u'收盤價(元)', u'成交量(千股)', u'成交值(千元)', u'成交筆數(筆)', u'流通在外股數(千股)', u'本益比-TSE', u'股價淨值比-TSE']\n",
    "\t\t\t\t\t)"
   ]
  },
  {
   "cell_type": "code",
   "execution_count": 3,
   "metadata": {},
   "outputs": [
    {
     "data": {
      "text/html": [
       "<div>\n",
       "<style scoped>\n",
       "    .dataframe tbody tr th:only-of-type {\n",
       "        vertical-align: middle;\n",
       "    }\n",
       "\n",
       "    .dataframe tbody tr th {\n",
       "        vertical-align: top;\n",
       "    }\n",
       "\n",
       "    .dataframe thead th {\n",
       "        text-align: right;\n",
       "    }\n",
       "</style>\n",
       "<table border=\"1\" class=\"dataframe\">\n",
       "  <thead>\n",
       "    <tr style=\"text-align: right;\">\n",
       "      <th></th>\n",
       "      <th>證券代碼</th>\n",
       "      <th>年月日</th>\n",
       "      <th>開盤價(元)</th>\n",
       "      <th>最高價(元)</th>\n",
       "      <th>最低價(元)</th>\n",
       "      <th>收盤價(元)</th>\n",
       "      <th>成交量(千股)</th>\n",
       "      <th>成交值(千元)</th>\n",
       "      <th>成交筆數(筆)</th>\n",
       "      <th>流通在外股數(千股)</th>\n",
       "      <th>本益比-TSE</th>\n",
       "      <th>股價淨值比-TSE</th>\n",
       "    </tr>\n",
       "  </thead>\n",
       "  <tbody>\n",
       "    <tr>\n",
       "      <th>237715</th>\n",
       "      <td>TWN50 台灣50指數</td>\n",
       "      <td>2018-01-02</td>\n",
       "      <td>8005.89</td>\n",
       "      <td>8032.98</td>\n",
       "      <td>7992.24</td>\n",
       "      <td>8032.98</td>\n",
       "      <td>425954</td>\n",
       "      <td>25774318</td>\n",
       "      <td>155272</td>\n",
       "      <td>366032503</td>\n",
       "      <td>NaN</td>\n",
       "      <td>NaN</td>\n",
       "    </tr>\n",
       "    <tr>\n",
       "      <th>237716</th>\n",
       "      <td>Y5555 不含電子</td>\n",
       "      <td>2018-01-02</td>\n",
       "      <td>14489.10</td>\n",
       "      <td>14537.98</td>\n",
       "      <td>14480.36</td>\n",
       "      <td>14537.98</td>\n",
       "      <td>1211378</td>\n",
       "      <td>30229644</td>\n",
       "      <td>361184</td>\n",
       "      <td>461103865</td>\n",
       "      <td>NaN</td>\n",
       "      <td>NaN</td>\n",
       "    </tr>\n",
       "    <tr>\n",
       "      <th>237717</th>\n",
       "      <td>Y8886 未含金電</td>\n",
       "      <td>2018-01-02</td>\n",
       "      <td>12434.66</td>\n",
       "      <td>12469.76</td>\n",
       "      <td>12422.58</td>\n",
       "      <td>12469.76</td>\n",
       "      <td>1021511</td>\n",
       "      <td>26477883</td>\n",
       "      <td>308295</td>\n",
       "      <td>253560361</td>\n",
       "      <td>NaN</td>\n",
       "      <td>NaN</td>\n",
       "    </tr>\n",
       "    <tr>\n",
       "      <th>237718</th>\n",
       "      <td>Y8888 不含金融</td>\n",
       "      <td>2018-01-02</td>\n",
       "      <td>9056.46</td>\n",
       "      <td>9094.86</td>\n",
       "      <td>9042.69</td>\n",
       "      <td>9094.86</td>\n",
       "      <td>2211971</td>\n",
       "      <td>91908946</td>\n",
       "      <td>830886</td>\n",
       "      <td>498148370</td>\n",
       "      <td>NaN</td>\n",
       "      <td>NaN</td>\n",
       "    </tr>\n",
       "    <tr>\n",
       "      <th>237719</th>\n",
       "      <td>Y9999 加權指數</td>\n",
       "      <td>2018-01-02</td>\n",
       "      <td>10664.82</td>\n",
       "      <td>10710.73</td>\n",
       "      <td>10650.77</td>\n",
       "      <td>10710.73</td>\n",
       "      <td>5393557</td>\n",
       "      <td>104485978</td>\n",
       "      <td>1010745</td>\n",
       "      <td>705691874</td>\n",
       "      <td>NaN</td>\n",
       "      <td>NaN</td>\n",
       "    </tr>\n",
       "  </tbody>\n",
       "</table>\n",
       "</div>"
      ],
      "text/plain": [
       "                證券代碼        年月日    開盤價(元)    最高價(元)    最低價(元)    收盤價(元)  \\\n",
       "237715  TWN50 台灣50指數 2018-01-02   8005.89   8032.98   7992.24   8032.98   \n",
       "237716    Y5555 不含電子 2018-01-02  14489.10  14537.98  14480.36  14537.98   \n",
       "237717    Y8886 未含金電 2018-01-02  12434.66  12469.76  12422.58  12469.76   \n",
       "237718    Y8888 不含金融 2018-01-02   9056.46   9094.86   9042.69   9094.86   \n",
       "237719    Y9999 加權指數 2018-01-02  10664.82  10710.73  10650.77  10710.73   \n",
       "\n",
       "        成交量(千股)    成交值(千元)  成交筆數(筆)  流通在外股數(千股)  本益比-TSE  股價淨值比-TSE  \n",
       "237715   425954   25774318   155272   366032503      NaN        NaN  \n",
       "237716  1211378   30229644   361184   461103865      NaN        NaN  \n",
       "237717  1021511   26477883   308295   253560361      NaN        NaN  \n",
       "237718  2211971   91908946   830886   498148370      NaN        NaN  \n",
       "237719  5393557  104485978  1010745   705691874      NaN        NaN  "
      ]
     },
     "execution_count": 3,
     "metadata": {},
     "output_type": "execute_result"
    }
   ],
   "source": [
    "df.tail()"
   ]
  },
  {
   "cell_type": "code",
   "execution_count": 4,
   "metadata": {},
   "outputs": [],
   "source": [
    "## 把row index換成證券代碼\n",
    "df.set_index(u'證券代碼', inplace = True)\n",
    "## 找出 df裡面只屬於加權指數的，並只留下日期跟收盤價\n",
    "market = df.filter(like = '9999', axis = 0)\n",
    "market = market.filter(items = [u'年月日', u'收盤價(元)'], axis = 1)"
   ]
  },
  {
   "cell_type": "markdown",
   "metadata": {},
   "source": [
    "## 做同樣的事情即可能到三年的加權指數股價"
   ]
  },
  {
   "cell_type": "code",
   "execution_count": 7,
   "metadata": {},
   "outputs": [],
   "source": [
    "df2017 = pd.read_excel(\tfilename,\n",
    "\t\t\t\t\tsheet_name = u'上市2017' ,\n",
    "\t\t\t\t\tencoding = 'big5', \n",
    "\t\t\t\t\tindex_col = 0, \n",
    "\t\t\t\t\tusecols   = [u'證券代碼', u'年月日', u'收盤價(元)']\n",
    "\t\t\t\t\t)\n",
    "df2016 = pd.read_excel(\tfilename,\n",
    "\t\t\t\t\tsheet_name = u'上市2016' ,\n",
    "\t\t\t\t\tencoding = 'big5', \n",
    "\t\t\t\t\tindex_col = 0, \n",
    "\t\t\t\t\tusecols   = [u'證券代碼', u'年月日', u'收盤價(元)']\n",
    "\t\t\t\t\t)"
   ]
  },
  {
   "cell_type": "code",
   "execution_count": 8,
   "metadata": {},
   "outputs": [],
   "source": [
    "market2017 = df2017.filter(like = '9999', axis = 0)\n",
    "market2017 = market2017.filter(items = [u'年月日', u'收盤價(元)'], axis = 1)\n",
    "\n",
    "market2016 = df2016.filter(like = '9999', axis = 0)\n",
    "market2016 = market2016.filter(items = [u'年月日', u'收盤價(元)'], axis = 1)\n",
    "market2018 = market\n",
    "final_market = pd.concat([market2016, market2017, market2018])\n",
    "final_market = final_market.sort_values(by=[u'年月日'])\n",
    "final_market"
   ]
  },
  {
   "cell_type": "code",
   "execution_count": 9,
   "metadata": {},
   "outputs": [],
   "source": [
    "final_market.to_csv('market_price.csv', encoding = 'big5')"
   ]
  },
  {
   "cell_type": "markdown",
   "metadata": {},
   "source": [
    "# 計算加權指數的1日至5日報酬率，計算5日MA"
   ]
  },
  {
   "cell_type": "code",
   "execution_count": 10,
   "metadata": {},
   "outputs": [],
   "source": [
    "#函數定義\n",
    "def moving_average(lst): \n",
    "    return sum(lst) / len(lst) \n",
    "def stock_return(price_now, price_past):\n",
    "    return (price_now-price_past) / price_past"
   ]
  },
  {
   "cell_type": "code",
   "execution_count": 11,
   "metadata": {},
   "outputs": [],
   "source": [
    "import csv \n",
    "from datetime import datetime\n",
    "file = open('market_price.csv', 'r')\n",
    "reader = csv.DictReader(file)\n",
    "five_day_price = []\n",
    "\n",
    "data_list = []\n",
    "\n",
    "for a_row in reader:\n",
    "        tem_dict = dict()\n",
    "        \n",
    "        date = datetime.strptime( a_row[u'年月日'], \"%Y-%m-%d\")\n",
    "        price = float(a_row[u'收盤價(元)'] )\n",
    "        five_day_price.append( price )\n",
    "    \n",
    "        \n",
    "        if len(five_day_price) == 6:\n",
    "            #計算1日到過去5日報酬\n",
    "            returns = []\n",
    "            for i in range(5):\n",
    "                returns.append(stock_return(price, five_day_price[i] )  )\n",
    "             \n",
    "            #計算MA\n",
    "            five_day_price = five_day_price[1:] #保留5個\n",
    "            five_MA = moving_average(five_day_price)\n",
    "\n",
    "\n",
    "            #存成dictionary\n",
    "            tem_dict['name'] = 'Y9999 加權指數'\n",
    "            tem_dict['date'] = date\n",
    "            tem_dict['price'] = price\n",
    "            tem_dict['5MA'] = five_MA\n",
    "            tem_dict['1日報酬'] = returns[4]\n",
    "            tem_dict['2日報酬'] = returns[3]\n",
    "            tem_dict['3日報酬'] = returns[2]\n",
    "            tem_dict['4日報酬'] = returns[1]\n",
    "            tem_dict['5日報酬'] = returns[0]\n",
    "        \n",
    "\n",
    "            data_list.append(tem_dict)"
   ]
  },
  {
   "cell_type": "code",
   "execution_count": 12,
   "metadata": {},
   "outputs": [],
   "source": [
    "import pandas as pd\n",
    "df = pd.DataFrame(data_list)[['name', 'date', 'price', '5MA', u'1日報酬',  u'2日報酬',  u'3日報酬',  u'4日報酬',  u'5日報酬',]]"
   ]
  },
  {
   "cell_type": "code",
   "execution_count": 13,
   "metadata": {},
   "outputs": [],
   "source": [
    "df.to_csv('market_ready.csv', encoding = 'big5')"
   ]
  },
  {
   "cell_type": "code",
   "execution_count": 14,
   "metadata": {},
   "outputs": [
    {
     "data": {
      "text/html": [
       "<div>\n",
       "<style scoped>\n",
       "    .dataframe tbody tr th:only-of-type {\n",
       "        vertical-align: middle;\n",
       "    }\n",
       "\n",
       "    .dataframe tbody tr th {\n",
       "        vertical-align: top;\n",
       "    }\n",
       "\n",
       "    .dataframe thead th {\n",
       "        text-align: right;\n",
       "    }\n",
       "</style>\n",
       "<table border=\"1\" class=\"dataframe\">\n",
       "  <thead>\n",
       "    <tr style=\"text-align: right;\">\n",
       "      <th></th>\n",
       "      <th>price</th>\n",
       "      <th>5MA</th>\n",
       "      <th>1日報酬</th>\n",
       "      <th>2日報酬</th>\n",
       "      <th>3日報酬</th>\n",
       "      <th>4日報酬</th>\n",
       "      <th>5日報酬</th>\n",
       "    </tr>\n",
       "  </thead>\n",
       "  <tbody>\n",
       "    <tr>\n",
       "      <th>count</th>\n",
       "      <td>732.000000</td>\n",
       "      <td>732.000000</td>\n",
       "      <td>732.000000</td>\n",
       "      <td>732.000000</td>\n",
       "      <td>732.000000</td>\n",
       "      <td>732.000000</td>\n",
       "      <td>732.000000</td>\n",
       "    </tr>\n",
       "    <tr>\n",
       "      <th>mean</th>\n",
       "      <td>9880.720902</td>\n",
       "      <td>9876.040180</td>\n",
       "      <td>0.000317</td>\n",
       "      <td>0.000628</td>\n",
       "      <td>0.000894</td>\n",
       "      <td>0.001154</td>\n",
       "      <td>0.001424</td>\n",
       "    </tr>\n",
       "    <tr>\n",
       "      <th>std</th>\n",
       "      <td>905.735420</td>\n",
       "      <td>908.727906</td>\n",
       "      <td>0.007962</td>\n",
       "      <td>0.011095</td>\n",
       "      <td>0.013683</td>\n",
       "      <td>0.015956</td>\n",
       "      <td>0.017963</td>\n",
       "    </tr>\n",
       "    <tr>\n",
       "      <th>min</th>\n",
       "      <td>7664.010000</td>\n",
       "      <td>7757.074000</td>\n",
       "      <td>-0.063125</td>\n",
       "      <td>-0.064912</td>\n",
       "      <td>-0.067763</td>\n",
       "      <td>-0.085158</td>\n",
       "      <td>-0.097371</td>\n",
       "    </tr>\n",
       "    <tr>\n",
       "      <th>25%</th>\n",
       "      <td>9160.262500</td>\n",
       "      <td>9148.076500</td>\n",
       "      <td>-0.003568</td>\n",
       "      <td>-0.005548</td>\n",
       "      <td>-0.006202</td>\n",
       "      <td>-0.007503</td>\n",
       "      <td>-0.008066</td>\n",
       "    </tr>\n",
       "    <tr>\n",
       "      <th>50%</th>\n",
       "      <td>9943.290000</td>\n",
       "      <td>9936.427000</td>\n",
       "      <td>0.000767</td>\n",
       "      <td>0.001313</td>\n",
       "      <td>0.001496</td>\n",
       "      <td>0.002094</td>\n",
       "      <td>0.002261</td>\n",
       "    </tr>\n",
       "    <tr>\n",
       "      <th>75%</th>\n",
       "      <td>10711.967500</td>\n",
       "      <td>10725.483000</td>\n",
       "      <td>0.005028</td>\n",
       "      <td>0.008189</td>\n",
       "      <td>0.009378</td>\n",
       "      <td>0.011360</td>\n",
       "      <td>0.012071</td>\n",
       "    </tr>\n",
       "    <tr>\n",
       "      <th>max</th>\n",
       "      <td>11253.110000</td>\n",
       "      <td>11190.706000</td>\n",
       "      <td>0.028975</td>\n",
       "      <td>0.033448</td>\n",
       "      <td>0.039941</td>\n",
       "      <td>0.041011</td>\n",
       "      <td>0.044829</td>\n",
       "    </tr>\n",
       "  </tbody>\n",
       "</table>\n",
       "</div>"
      ],
      "text/plain": [
       "              price           5MA        1日報酬        2日報酬        3日報酬  \\\n",
       "count    732.000000    732.000000  732.000000  732.000000  732.000000   \n",
       "mean    9880.720902   9876.040180    0.000317    0.000628    0.000894   \n",
       "std      905.735420    908.727906    0.007962    0.011095    0.013683   \n",
       "min     7664.010000   7757.074000   -0.063125   -0.064912   -0.067763   \n",
       "25%     9160.262500   9148.076500   -0.003568   -0.005548   -0.006202   \n",
       "50%     9943.290000   9936.427000    0.000767    0.001313    0.001496   \n",
       "75%    10711.967500  10725.483000    0.005028    0.008189    0.009378   \n",
       "max    11253.110000  11190.706000    0.028975    0.033448    0.039941   \n",
       "\n",
       "             4日報酬        5日報酬  \n",
       "count  732.000000  732.000000  \n",
       "mean     0.001154    0.001424  \n",
       "std      0.015956    0.017963  \n",
       "min     -0.085158   -0.097371  \n",
       "25%     -0.007503   -0.008066  \n",
       "50%      0.002094    0.002261  \n",
       "75%      0.011360    0.012071  \n",
       "max      0.041011    0.044829  "
      ]
     },
     "execution_count": 14,
     "metadata": {},
     "output_type": "execute_result"
    }
   ],
   "source": [
    "df.describe()"
   ]
  },
  {
   "cell_type": "markdown",
   "metadata": {},
   "source": [
    "# 清洗資料"
   ]
  },
  {
   "cell_type": "code",
   "execution_count": 15,
   "metadata": {},
   "outputs": [],
   "source": [
    "df111 = pd.read_csv(r'C:\\Users\\User\\Desktop\\大數據與商業分析\\mid tern\\news.csv', encoding = 'big5')\n",
    "df111 = df111[df111['content']!=u'本日資訊傳送完畢']\n",
    "mask = df111['content'].str.contains(u'如何在Yahoo股市APP看直播', regex=False, na = False)\n",
    "df111 = df111[~mask]\n",
    "mask = df111['content'].str.contains(u'獎號碼', regex=False, na = False)\n",
    "df116 = df111[~mask]\n",
    "mask = df116['content'].str.contains(u'威力彩', regex=False, na = False)\n",
    "df117 = df116[~mask]\n",
    "mask = df117['content'].str.contains(u'彩券', regex=False, na = False)\n",
    "df118 = df117[~mask]\n",
    "mask = df118['title'].str.contains(u'統一發票', regex=False, na = False)\n",
    "df119 = df118[~mask]\n",
    "mask = df119['title'].str.contains(u'頭獎', regex=False, na = False)\n",
    "df120 = df119[~mask]\n",
    "mask = df120['title'].str.contains(u'行事曆', regex=False, na = False)\n",
    "df121 = df120[~mask]"
   ]
  },
  {
   "cell_type": "code",
   "execution_count": 17,
   "metadata": {},
   "outputs": [],
   "source": [
    "del df111, df116, df117, df118, df119,df120"
   ]
  },
  {
   "cell_type": "code",
   "execution_count": 18,
   "metadata": {},
   "outputs": [
    {
     "data": {
      "text/plain": [
       "count    245548.000000\n",
       "mean        601.363994\n",
       "std         499.259061\n",
       "min           0.000000\n",
       "25%         264.000000\n",
       "50%         520.000000\n",
       "75%         814.000000\n",
       "max       16338.000000\n",
       "Name: content, dtype: float64"
      ]
     },
     "execution_count": 18,
     "metadata": {},
     "output_type": "execute_result"
    }
   ],
   "source": [
    "df_len = df121['content'].fillna('').apply(len)\n",
    "df_len.describe()"
   ]
  },
  {
   "cell_type": "code",
   "execution_count": 21,
   "metadata": {},
   "outputs": [],
   "source": [
    "df122 = df121[ df_len > 30 ]"
   ]
  },
  {
   "cell_type": "markdown",
   "metadata": {},
   "source": [
    "## 經過以上步驟，我將重複的、關於彩票及發票的、關於行事曆、以及內容過少的新聞排除"
   ]
  },
  {
   "cell_type": "code",
   "execution_count": 22,
   "metadata": {},
   "outputs": [
    {
     "data": {
      "text/html": [
       "<div>\n",
       "<style scoped>\n",
       "    .dataframe tbody tr th:only-of-type {\n",
       "        vertical-align: middle;\n",
       "    }\n",
       "\n",
       "    .dataframe tbody tr th {\n",
       "        vertical-align: top;\n",
       "    }\n",
       "\n",
       "    .dataframe thead th {\n",
       "        text-align: right;\n",
       "    }\n",
       "</style>\n",
       "<table border=\"1\" class=\"dataframe\">\n",
       "  <thead>\n",
       "    <tr style=\"text-align: right;\">\n",
       "      <th></th>\n",
       "      <th>id</th>\n",
       "      <th>p_type</th>\n",
       "      <th>s_name</th>\n",
       "      <th>s_area_name</th>\n",
       "      <th>post_time</th>\n",
       "      <th>title</th>\n",
       "      <th>author</th>\n",
       "      <th>content</th>\n",
       "      <th>page_url</th>\n",
       "    </tr>\n",
       "  </thead>\n",
       "  <tbody>\n",
       "    <tr>\n",
       "      <th>count</th>\n",
       "      <td>232514</td>\n",
       "      <td>232514</td>\n",
       "      <td>232514</td>\n",
       "      <td>232514</td>\n",
       "      <td>232514</td>\n",
       "      <td>232514</td>\n",
       "      <td>232499</td>\n",
       "      <td>232514</td>\n",
       "      <td>232514</td>\n",
       "    </tr>\n",
       "    <tr>\n",
       "      <th>unique</th>\n",
       "      <td>232514</td>\n",
       "      <td>1</td>\n",
       "      <td>1</td>\n",
       "      <td>2</td>\n",
       "      <td>135037</td>\n",
       "      <td>222873</td>\n",
       "      <td>11</td>\n",
       "      <td>232514</td>\n",
       "      <td>232514</td>\n",
       "    </tr>\n",
       "    <tr>\n",
       "      <th>top</th>\n",
       "      <td>1545093541189_N01</td>\n",
       "      <td>news</td>\n",
       "      <td>yahoo股市</td>\n",
       "      <td>最新財經新聞</td>\n",
       "      <td>2018/6/28 08:29:00</td>\n",
       "      <td>工商時報晨訊</td>\n",
       "      <td>時報資訊</td>\n",
       "      <td>MoneyDJ新聞 2018-07-20 13:46:35 記者 郭妍希 報導&lt;BR&gt;川普5...</td>\n",
       "      <td>https://tw.stock.yahoo.com/news/上櫃認購-售-權證8-17履...</td>\n",
       "    </tr>\n",
       "    <tr>\n",
       "      <th>freq</th>\n",
       "      <td>1</td>\n",
       "      <td>232514</td>\n",
       "      <td>232514</td>\n",
       "      <td>135083</td>\n",
       "      <td>40</td>\n",
       "      <td>488</td>\n",
       "      <td>68079</td>\n",
       "      <td>1</td>\n",
       "      <td>1</td>\n",
       "    </tr>\n",
       "  </tbody>\n",
       "</table>\n",
       "</div>"
      ],
      "text/plain": [
       "                       id  p_type   s_name s_area_name           post_time  \\\n",
       "count              232514  232514   232514      232514              232514   \n",
       "unique             232514       1        1           2              135037   \n",
       "top     1545093541189_N01    news  yahoo股市      最新財經新聞  2018/6/28 08:29:00   \n",
       "freq                    1  232514   232514      135083                  40   \n",
       "\n",
       "         title  author                                            content  \\\n",
       "count   232514  232499                                             232514   \n",
       "unique  222873      11                                             232514   \n",
       "top     工商時報晨訊    時報資訊  MoneyDJ新聞 2018-07-20 13:46:35 記者 郭妍希 報導<BR>川普5...   \n",
       "freq       488   68079                                                  1   \n",
       "\n",
       "                                                 page_url  \n",
       "count                                              232514  \n",
       "unique                                             232514  \n",
       "top     https://tw.stock.yahoo.com/news/上櫃認購-售-權證8-17履...  \n",
       "freq                                                    1  "
      ]
     },
     "execution_count": 22,
     "metadata": {},
     "output_type": "execute_result"
    }
   ],
   "source": [
    "df_final = df122.drop_duplicates(subset ='content')\n",
    "df_final.describe()"
   ]
  },
  {
   "cell_type": "code",
   "execution_count": 23,
   "metadata": {},
   "outputs": [],
   "source": [
    "df_final.to_csv('news_ready.csv', encoding = 'big5')"
   ]
  },
  {
   "cell_type": "markdown",
   "metadata": {},
   "source": [
    "# 清洗 bbs"
   ]
  },
  {
   "cell_type": "code",
   "execution_count": 24,
   "metadata": {},
   "outputs": [],
   "source": [
    "df_bbs = pd.read_csv(r'C:\\Users\\User\\Desktop\\大數據與商業分析\\mid tern\\bbs.csv', encoding = 'utf-8')"
   ]
  },
  {
   "cell_type": "code",
   "execution_count": 25,
   "metadata": {},
   "outputs": [],
   "source": [
    "mask = df_bbs['content'].str.contains(u'沒人開\\n\\n我來開\\n\\n大家賺錢\\n\\n--\\n', regex=False, na = False)\n",
    "df_bbs[mask]\n",
    "df_bbs1 = df_bbs[~mask]"
   ]
  },
  {
   "cell_type": "code",
   "execution_count": 26,
   "metadata": {},
   "outputs": [],
   "source": [
    "import re\n",
    "def drop_new_lines(string):\n",
    "    string = re.sub(r'\\n', ' ', string)\n",
    "    string = re.sub(r'(1.原文連結.*原文內容)', ' ', string)\n",
    "    string = re.sub(' +', ' ', string)\n",
    "    return string"
   ]
  },
  {
   "cell_type": "code",
   "execution_count": 27,
   "metadata": {},
   "outputs": [],
   "source": [
    "dfbbs2 = df_bbs1['content'].fillna('').apply(drop_new_lines)\n",
    "dfbbs3 = pd.merge(df_bbs1, dfbbs2, left_index=True, right_index=True, how='outer')"
   ]
  },
  {
   "cell_type": "code",
   "execution_count": 28,
   "metadata": {},
   "outputs": [],
   "source": [
    "dfbbs_len = dfbbs3['content_y'].fillna('').apply(len)"
   ]
  },
  {
   "cell_type": "code",
   "execution_count": 29,
   "metadata": {},
   "outputs": [
    {
     "data": {
      "text/plain": [
       "count                                                 57930\n",
       "unique                                                57930\n",
       "top        ： 週四 (15 日) 美股道瓊指數大幅收漲 306.88 點，重新收復了 25000 點...\n",
       "freq                                                      1\n",
       "Name: content_y, dtype: object"
      ]
     },
     "execution_count": 29,
     "metadata": {},
     "output_type": "execute_result"
    }
   ],
   "source": [
    "dfbbs4 = dfbbs3[ dfbbs_len > 5 ].drop('content_x', axis = 1)\n",
    "dfbbs_final = dfbbs4.drop_duplicates(subset ='content_y')\n",
    "dfbbs_final['content_y'].describe()"
   ]
  },
  {
   "cell_type": "code",
   "execution_count": 30,
   "metadata": {},
   "outputs": [],
   "source": [
    "dfbbs_final.to_csv( 'BBS_ready.csv', encoding = 'utf-8')"
   ]
  },
  {
   "cell_type": "markdown",
   "metadata": {},
   "source": [
    "# 清洗 forum"
   ]
  },
  {
   "cell_type": "code",
   "execution_count": 31,
   "metadata": {},
   "outputs": [
    {
     "data": {
      "text/plain": [
       "count                                        25562\n",
       "unique                                       25562\n",
       "top       請問<BR>原物料類股應該算是景氣循環股吧！<BR>那麼這類型的股票能買來存嗎?\n",
       "freq                                             1\n",
       "Name: content, dtype: object"
      ]
     },
     "execution_count": 31,
     "metadata": {},
     "output_type": "execute_result"
    }
   ],
   "source": [
    "df_forums = pd.read_csv(r'C:\\Users\\User\\Desktop\\大數據與商業分析\\mid tern\\forum.csv', encoding = 'utf-8')\n",
    "mask = df_forums['content'].str.contains(u'[申請比特幣錢包]', regex=False, na = False)\n",
    "df_forums1 = df_forums[~mask]\n",
    "df_forums1_len = df_forums1['content'].fillna('').apply(len)\n",
    "df_forums2 = df_forums1[ df_forums1_len > 15 ]\n",
    "dfforum_final = df_forums2.drop_duplicates(subset ='content')\n",
    "dfforum_final['content'].describe()"
   ]
  },
  {
   "cell_type": "code",
   "execution_count": 32,
   "metadata": {},
   "outputs": [],
   "source": [
    "dfforum_final.to_csv( 'forum_ready.csv', encoding = 'utf-8')"
   ]
  },
  {
   "cell_type": "markdown",
   "metadata": {},
   "source": [
    "# 接著我對每個洗好的csv進行tf idf排序，選出每個文章列別各1000個keyword"
   ]
  },
  {
   "cell_type": "markdown",
   "metadata": {},
   "source": [
    "## 使用程式碼 word_to_tf_idf.py"
   ]
  },
  {
   "cell_type": "markdown",
   "metadata": {},
   "source": [
    "## 接著使用k-means.py 將每一類文章分群"
   ]
  },
  {
   "cell_type": "code",
   "execution_count": 34,
   "metadata": {},
   "outputs": [
    {
     "data": {
      "image/png": "[encoded data removed]",
      "text/plain": [
       "<Figure size 432x288 with 1 Axes>"
      ]
     },
     "metadata": {
      "needs_background": "light"
     },
     "output_type": "display_data"
    }
   ],
   "source": [
    "from PIL import Image\n",
    "import matplotlib.pyplot as plt\n",
    "img=Image.open(r'C:\\Users\\User\\Documents\\GitHub\\Big_data_analytics\\mid project\\best k for bbs.bmp')\n",
    "plt.figure(\"dog\")\n",
    "plt.imshow(img)\n",
    "plt.show()\n",
    "# 圖例 bbs 共分出10群"
   ]
  },
  {
   "cell_type": "markdown",
   "metadata": {},
   "source": [
    "# 人工標記!! 將每一群都人工標記50~60篇 [看漲, 不相關, 看跌]"
   ]
  },
  {
   "cell_type": "markdown",
   "metadata": {},
   "source": [
    "## 接著用人工標記的資料來預測剩下的未標記文章"
   ]
  },
  {
   "cell_type": "markdown",
   "metadata": {},
   "source": [
    "## news"
   ]
  },
  {
   "cell_type": "markdown",
   "metadata": {},
   "source": [
    "## 統整好的label 如下"
   ]
  },
  {
   "cell_type": "code",
   "execution_count": 2,
   "metadata": {},
   "outputs": [],
   "source": [
    "import pandas as pd\n",
    "new_label = pd.read_csv(r'C:\\Users\\User\\cluster\\news\\news_only_label.csv')"
   ]
  },
  {
   "cell_type": "code",
   "execution_count": 17,
   "metadata": {},
   "outputs": [],
   "source": [
    "tf_idf = pd.read_csv('news_1000_tf_idf.csv', encoding ='utf-8')"
   ]
  },
  {
   "cell_type": "code",
   "execution_count": 18,
   "metadata": {},
   "outputs": [],
   "source": [
    "news = pd.read_csv(r'C:\\Users\\User\\news_ready.csv', encoding ='big5')\n",
    "id_df = news.loc[:, ['id', 'id2', ]]"
   ]
  },
  {
   "cell_type": "code",
   "execution_count": 5,
   "metadata": {},
   "outputs": [
    {
     "data": {
      "text/html": [
       "<div>\n",
       "<style scoped>\n",
       "    .dataframe tbody tr th:only-of-type {\n",
       "        vertical-align: middle;\n",
       "    }\n",
       "\n",
       "    .dataframe tbody tr th {\n",
       "        vertical-align: top;\n",
       "    }\n",
       "\n",
       "    .dataframe thead th {\n",
       "        text-align: right;\n",
       "    }\n",
       "</style>\n",
       "<table border=\"1\" class=\"dataframe\">\n",
       "  <thead>\n",
       "    <tr style=\"text-align: right;\">\n",
       "      <th></th>\n",
       "      <th>id</th>\n",
       "      <th>label</th>\n",
       "    </tr>\n",
       "  </thead>\n",
       "  <tbody>\n",
       "    <tr>\n",
       "      <th>0</th>\n",
       "      <td>1451580107540_N01</td>\n",
       "      <td>X</td>\n",
       "    </tr>\n",
       "    <tr>\n",
       "      <th>1</th>\n",
       "      <td>1451582807314_N01</td>\n",
       "      <td>X</td>\n",
       "    </tr>\n",
       "    <tr>\n",
       "      <th>2</th>\n",
       "      <td>1451584607515_N01</td>\n",
       "      <td>X</td>\n",
       "    </tr>\n",
       "    <tr>\n",
       "      <th>3</th>\n",
       "      <td>1451597207172_N01</td>\n",
       "      <td>X</td>\n",
       "    </tr>\n",
       "    <tr>\n",
       "      <th>4</th>\n",
       "      <td>1451599007463_N01</td>\n",
       "      <td>X</td>\n",
       "    </tr>\n",
       "  </tbody>\n",
       "</table>\n",
       "</div>"
      ],
      "text/plain": [
       "                  id label\n",
       "0  1451580107540_N01     X\n",
       "1  1451582807314_N01     X\n",
       "2  1451584607515_N01     X\n",
       "3  1451597207172_N01     X\n",
       "4  1451599007463_N01     X"
      ]
     },
     "execution_count": 5,
     "metadata": {},
     "output_type": "execute_result"
    }
   ],
   "source": [
    "res = pd.merge(id_df, new_label, on=['id'], how='outer')\n",
    "res['label'] = res['label'].fillna('X')\n",
    "res.columns = ['id2', 'id', 'label']\n",
    "y = res.loc[:, ['id', 'label']]\n",
    "y.head()"
   ]
  },
  {
   "cell_type": "code",
   "execution_count": 6,
   "metadata": {},
   "outputs": [],
   "source": [
    "human_label_data_df = res[res['label'].isin([0,1,2])]\n",
    "human_label_data_id = human_label_data_df['id'].tolist()"
   ]
  },
  {
   "cell_type": "markdown",
   "metadata": {},
   "source": [
    "## 預測模型"
   ]
  },
  {
   "cell_type": "code",
   "execution_count": 7,
   "metadata": {},
   "outputs": [
    {
     "name": "stdout",
     "output_type": "stream",
     "text": [
      "(660, 1001) (231854, 1001)\n"
     ]
    }
   ],
   "source": [
    "X_labeled = tf_idf[ tf_idf['id'].isin(human_label_data_id)]\n",
    "X_unlabeled = tf_idf[ ~tf_idf['id'].isin(human_label_data_id)]\n",
    "print(X_labeled.shape, X_unlabeled.shape)"
   ]
  },
  {
   "cell_type": "code",
   "execution_count": 8,
   "metadata": {},
   "outputs": [
    {
     "name": "stdout",
     "output_type": "stream",
     "text": [
      "(660, 2) (231854, 2)\n"
     ]
    }
   ],
   "source": [
    "y_labeled = y[ y['id'].isin(human_label_data_id)]\n",
    "y_unlabeled = y[ ~y['id'].isin(human_label_data_id)]\n",
    "print(y_labeled.shape, y_unlabeled.shape)"
   ]
  },
  {
   "cell_type": "code",
   "execution_count": 9,
   "metadata": {},
   "outputs": [
    {
     "name": "stderr",
     "output_type": "stream",
     "text": [
      "c:\\users\\user\\appdata\\local\\programs\\python\\python37\\lib\\site-packages\\ipykernel_launcher.py:9: DataConversionWarning: A column-vector y was passed when a 1d array was expected. Please change the shape of y to (n_samples,), for example using ravel().\n",
      "  if __name__ == '__main__':\n"
     ]
    },
    {
     "name": "stdout",
     "output_type": "stream",
     "text": [
      "0.9818181818181818\n"
     ]
    }
   ],
   "source": [
    "import numpy as np\n",
    "x_train = x_test = X_labeled.iloc[:, 1:]\n",
    "y_train = y_test = y_labeled.iloc[:, 1:].values.tolist()\n",
    "\n",
    "from sklearn.ensemble import RandomForestClassifier\n",
    "forest = RandomForestClassifier(criterion = 'entropy', n_estimators =10, random_state = 1, n_jobs = 2)\n",
    "\n",
    "#fit\n",
    "forest.fit(x_train,y_train)\n",
    "print(forest.score(x_test, y_test))"
   ]
  },
  {
   "cell_type": "code",
   "execution_count": 10,
   "metadata": {},
   "outputs": [
    {
     "name": "stderr",
     "output_type": "stream",
     "text": [
      "c:\\users\\user\\appdata\\local\\programs\\python\\python37\\lib\\site-packages\\ipykernel_launcher.py:2: SettingWithCopyWarning: \n",
      "A value is trying to be set on a copy of a slice from a DataFrame.\n",
      "Try using .loc[row_indexer,col_indexer] = value instead\n",
      "\n",
      "See the caveats in the documentation: http://pandas.pydata.org/pandas-docs/stable/indexing.html#indexing-view-versus-copy\n",
      "  \n"
     ]
    }
   ],
   "source": [
    "y_pesudo_label = forest.predict(X_unlabeled.iloc[:, 1:])\n",
    "y_unlabeled['label'] = y_pesudo_label"
   ]
  },
  {
   "cell_type": "markdown",
   "metadata": {},
   "source": [
    "# recursive training the RF model"
   ]
  },
  {
   "cell_type": "code",
   "execution_count": 11,
   "metadata": {},
   "outputs": [],
   "source": [
    "X = X_labeled.append(X_unlabeled, ignore_index=True)\n",
    "Y = y_labeled.append(y_unlabeled, ignore_index=True)"
   ]
  },
  {
   "cell_type": "code",
   "execution_count": 12,
   "metadata": {},
   "outputs": [
    {
     "name": "stderr",
     "output_type": "stream",
     "text": [
      "c:\\users\\user\\appdata\\local\\programs\\python\\python37\\lib\\site-packages\\ipykernel_launcher.py:11: DataConversionWarning: A column-vector y was passed when a 1d array was expected. Please change the shape of y to (n_samples,), for example using ravel().\n",
      "  # This is added back by InteractiveShellApp.init_path()\n"
     ]
    },
    {
     "name": "stdout",
     "output_type": "stream",
     "text": [
      "0.9878787878787879\n"
     ]
    },
    {
     "name": "stderr",
     "output_type": "stream",
     "text": [
      "c:\\users\\user\\appdata\\local\\programs\\python\\python37\\lib\\site-packages\\ipykernel_launcher.py:25: SettingWithCopyWarning: \n",
      "A value is trying to be set on a copy of a slice from a DataFrame.\n",
      "Try using .loc[row_indexer,col_indexer] = value instead\n",
      "\n",
      "See the caveats in the documentation: http://pandas.pydata.org/pandas-docs/stable/indexing.html#indexing-view-versus-copy\n",
      "c:\\users\\user\\appdata\\local\\programs\\python\\python37\\lib\\site-packages\\ipykernel_launcher.py:11: DataConversionWarning: A column-vector y was passed when a 1d array was expected. Please change the shape of y to (n_samples,), for example using ravel().\n",
      "  # This is added back by InteractiveShellApp.init_path()\n"
     ]
    },
    {
     "name": "stdout",
     "output_type": "stream",
     "text": [
      "0.9893939393939394\n"
     ]
    },
    {
     "name": "stderr",
     "output_type": "stream",
     "text": [
      "c:\\users\\user\\appdata\\local\\programs\\python\\python37\\lib\\site-packages\\ipykernel_launcher.py:25: SettingWithCopyWarning: \n",
      "A value is trying to be set on a copy of a slice from a DataFrame.\n",
      "Try using .loc[row_indexer,col_indexer] = value instead\n",
      "\n",
      "See the caveats in the documentation: http://pandas.pydata.org/pandas-docs/stable/indexing.html#indexing-view-versus-copy\n",
      "c:\\users\\user\\appdata\\local\\programs\\python\\python37\\lib\\site-packages\\ipykernel_launcher.py:11: DataConversionWarning: A column-vector y was passed when a 1d array was expected. Please change the shape of y to (n_samples,), for example using ravel().\n",
      "  # This is added back by InteractiveShellApp.init_path()\n"
     ]
    },
    {
     "name": "stdout",
     "output_type": "stream",
     "text": [
      "0.9863636363636363\n"
     ]
    }
   ],
   "source": [
    "forest_list = []\n",
    "max_score = 0\n",
    "while True:\n",
    "    x_train  = X.iloc[:, 1:]\n",
    "    y_train  = Y.iloc[:, 1:].values.tolist()\n",
    "\n",
    "\n",
    "    forest = RandomForestClassifier(criterion = 'entropy', n_estimators =10, random_state = 1, n_jobs = 4)\n",
    "\n",
    "    #fit\n",
    "    forest.fit(x_train,y_train)\n",
    "    forest_list.append(forest)\n",
    "\n",
    "    #score\n",
    "    tem_score = forest.score(x_test, y_test)\n",
    "    print(tem_score)\n",
    "    \n",
    "    if tem_score > max_score:\n",
    "        max_score = tem_score\n",
    "    \n",
    "    else:\n",
    "        break\n",
    "        \n",
    "    # update pesudo labeling\n",
    "    y_unlabeled['label'] = forest.predict(X_unlabeled.iloc[:, 1:])\n",
    "    Y = y_labeled.append(y_unlabeled, ignore_index=True)"
   ]
  },
  {
   "cell_type": "code",
   "execution_count": 13,
   "metadata": {},
   "outputs": [
    {
     "data": {
      "text/plain": [
       "['news_predict_model.pkl']"
      ]
     },
     "execution_count": 13,
     "metadata": {},
     "output_type": "execute_result"
    }
   ],
   "source": [
    "# save the best model\n",
    "from sklearn.externals import joblib\n",
    "joblib.dump(forest_list[1], 'news_predict_model.pkl')"
   ]
  },
  {
   "cell_type": "code",
   "execution_count": 24,
   "metadata": {},
   "outputs": [],
   "source": [
    "Y.to_csv('news_labeled.csv', index = False)"
   ]
  },
  {
   "cell_type": "markdown",
   "metadata": {},
   "source": [
    "## 標記bbs "
   ]
  },
  {
   "cell_type": "code",
   "execution_count": 13,
   "metadata": {},
   "outputs": [],
   "source": [
    "import pandas as pd\n",
    "bbs_label = pd.read_csv(r'C:\\Users\\User\\cluster\\bbs\\bbs_only_label.csv')"
   ]
  },
  {
   "cell_type": "code",
   "execution_count": 14,
   "metadata": {},
   "outputs": [],
   "source": [
    "tf_idf = pd.read_csv(r'C:\\Users\\User\\BBS_1000_tf_idf.csv', encoding ='utf-8')"
   ]
  },
  {
   "cell_type": "code",
   "execution_count": 15,
   "metadata": {},
   "outputs": [],
   "source": [
    "id_df = tf_idf['id']\n",
    "res = pd.merge(id_df, bbs_label, on=['id'], how='outer')"
   ]
  },
  {
   "cell_type": "code",
   "execution_count": 16,
   "metadata": {},
   "outputs": [],
   "source": [
    "res['label'] = res['label'].fillna('X')\n",
    "y = res\n",
    "del res"
   ]
  },
  {
   "cell_type": "code",
   "execution_count": 17,
   "metadata": {},
   "outputs": [
    {
     "data": {
      "text/plain": [
       "600"
      ]
     },
     "execution_count": 17,
     "metadata": {},
     "output_type": "execute_result"
    }
   ],
   "source": [
    "human_label_data_df = y[y['label'].isin([0,1,2])]\n",
    "human_label_data_id = human_label_data_df['id'].tolist()\n",
    "len(human_label_data_id)"
   ]
  },
  {
   "cell_type": "code",
   "execution_count": 18,
   "metadata": {},
   "outputs": [
    {
     "name": "stdout",
     "output_type": "stream",
     "text": [
      "(600, 1001) (57330, 1001)\n"
     ]
    }
   ],
   "source": [
    "X_labeled = tf_idf[ tf_idf['id'].isin(human_label_data_id)]\n",
    "X_unlabeled = tf_idf[ ~tf_idf['id'].isin(human_label_data_id)]\n",
    "print(X_labeled.shape, X_unlabeled.shape)"
   ]
  },
  {
   "cell_type": "code",
   "execution_count": 19,
   "metadata": {},
   "outputs": [
    {
     "name": "stdout",
     "output_type": "stream",
     "text": [
      "(600, 2) (57330, 2)\n"
     ]
    }
   ],
   "source": [
    "y_labeled = y[ y['id'].isin(human_label_data_id)]\n",
    "y_unlabeled = y[ ~y['id'].isin(human_label_data_id)]\n",
    "print(y_labeled.shape, y_unlabeled.shape)"
   ]
  },
  {
   "cell_type": "code",
   "execution_count": 20,
   "metadata": {},
   "outputs": [
    {
     "name": "stderr",
     "output_type": "stream",
     "text": [
      "c:\\users\\user\\appdata\\local\\programs\\python\\python37\\lib\\site-packages\\ipykernel_launcher.py:11: DataConversionWarning: A column-vector y was passed when a 1d array was expected. Please change the shape of y to (n_samples,), for example using ravel().\n",
      "  # This is added back by InteractiveShellApp.init_path()\n"
     ]
    },
    {
     "name": "stdout",
     "output_type": "stream",
     "text": [
      "0.9516666666666667\n"
     ]
    }
   ],
   "source": [
    "import numpy as np\n",
    "        \n",
    "\n",
    "x_train = x_test = X_labeled.iloc[:, 1:]\n",
    "y_train = y_test = y_labeled.iloc[:, 1:].values.tolist()\n",
    "\n",
    "from sklearn.ensemble import RandomForestClassifier\n",
    "forest = RandomForestClassifier(criterion = 'entropy', n_estimators =10, random_state = 1, n_jobs = 2)\n",
    "\n",
    "#fit\n",
    "forest.fit(x_train,y_train)\n",
    "\n",
    "#score \n",
    "print(forest.score(x_test, y_test))"
   ]
  },
  {
   "cell_type": "code",
   "execution_count": 21,
   "metadata": {},
   "outputs": [
    {
     "name": "stderr",
     "output_type": "stream",
     "text": [
      "c:\\users\\user\\appdata\\local\\programs\\python\\python37\\lib\\site-packages\\ipykernel_launcher.py:1: SettingWithCopyWarning: \n",
      "A value is trying to be set on a copy of a slice from a DataFrame.\n",
      "Try using .loc[row_indexer,col_indexer] = value instead\n",
      "\n",
      "See the caveats in the documentation: http://pandas.pydata.org/pandas-docs/stable/indexing.html#indexing-view-versus-copy\n",
      "  \"\"\"Entry point for launching an IPython kernel.\n"
     ]
    }
   ],
   "source": [
    "y_unlabeled['label'] =  forest.predict(X_unlabeled.iloc[:, 1:])"
   ]
  },
  {
   "cell_type": "markdown",
   "metadata": {},
   "source": [
    "# recursive training the RF model"
   ]
  },
  {
   "cell_type": "code",
   "execution_count": 22,
   "metadata": {},
   "outputs": [
    {
     "name": "stdout",
     "output_type": "stream",
     "text": [
      "(57930, 1001) (57930, 2)\n"
     ]
    }
   ],
   "source": [
    "X = X_labeled.append(X_unlabeled, ignore_index=True)\n",
    "Y = y_labeled.append(y_unlabeled, ignore_index=True)\n",
    "print(X.shape, Y.shape)"
   ]
  },
  {
   "cell_type": "code",
   "execution_count": 23,
   "metadata": {},
   "outputs": [
    {
     "name": "stderr",
     "output_type": "stream",
     "text": [
      "c:\\users\\user\\appdata\\local\\programs\\python\\python37\\lib\\site-packages\\ipykernel_launcher.py:11: DataConversionWarning: A column-vector y was passed when a 1d array was expected. Please change the shape of y to (n_samples,), for example using ravel().\n",
      "  # This is added back by InteractiveShellApp.init_path()\n"
     ]
    },
    {
     "name": "stdout",
     "output_type": "stream",
     "text": [
      "0.9533333333333334\n"
     ]
    },
    {
     "name": "stderr",
     "output_type": "stream",
     "text": [
      "c:\\users\\user\\appdata\\local\\programs\\python\\python37\\lib\\site-packages\\ipykernel_launcher.py:25: SettingWithCopyWarning: \n",
      "A value is trying to be set on a copy of a slice from a DataFrame.\n",
      "Try using .loc[row_indexer,col_indexer] = value instead\n",
      "\n",
      "See the caveats in the documentation: http://pandas.pydata.org/pandas-docs/stable/indexing.html#indexing-view-versus-copy\n",
      "c:\\users\\user\\appdata\\local\\programs\\python\\python37\\lib\\site-packages\\ipykernel_launcher.py:11: DataConversionWarning: A column-vector y was passed when a 1d array was expected. Please change the shape of y to (n_samples,), for example using ravel().\n",
      "  # This is added back by InteractiveShellApp.init_path()\n"
     ]
    },
    {
     "name": "stdout",
     "output_type": "stream",
     "text": [
      "0.9516666666666667\n"
     ]
    }
   ],
   "source": [
    "forest_list = []\n",
    "max_score = 0\n",
    "while True:\n",
    "    x_train  = X.iloc[:, 1:]\n",
    "    y_train  = Y.iloc[:, 1:].values.tolist()\n",
    "\n",
    "\n",
    "    forest = RandomForestClassifier(criterion = 'entropy', n_estimators =10, random_state = 1, n_jobs = 4)\n",
    "\n",
    "    #fit\n",
    "    forest.fit(x_train,y_train)\n",
    "    forest_list.append(forest)\n",
    "\n",
    "    #score\n",
    "    tem_score = forest.score(x_test, y_test)\n",
    "    print(tem_score)\n",
    "    \n",
    "    if tem_score > max_score:\n",
    "        max_score = tem_score\n",
    "    \n",
    "    else:\n",
    "        break\n",
    "        \n",
    "    # update pesudo labeling\n",
    "    y_unlabeled['label'] = forest.predict(X_unlabeled.iloc[:, 1:])\n",
    "    Y = y_labeled.append(y_unlabeled, ignore_index=True)"
   ]
  },
  {
   "cell_type": "code",
   "execution_count": 26,
   "metadata": {},
   "outputs": [
    {
     "data": {
      "text/plain": [
       "['bbs_predict_model.pkl']"
      ]
     },
     "execution_count": 26,
     "metadata": {},
     "output_type": "execute_result"
    }
   ],
   "source": [
    "# save the best model\n",
    "from sklearn.externals import joblib\n",
    "joblib.dump(forest_list[0], 'bbs_predict_model.pkl')"
   ]
  },
  {
   "cell_type": "code",
   "execution_count": 27,
   "metadata": {},
   "outputs": [],
   "source": [
    "Y.to_csv('bbs_labeled.csv', index = False)"
   ]
  },
  {
   "cell_type": "markdown",
   "metadata": {},
   "source": [
    "# 標記forum"
   ]
  },
  {
   "cell_type": "code",
   "execution_count": 56,
   "metadata": {},
   "outputs": [],
   "source": [
    "import pandas as pd\n",
    "label_df = pd.read_csv(r'C:\\Users\\User\\cluster\\forum\\forum_only_label.csv')"
   ]
  },
  {
   "cell_type": "code",
   "execution_count": 57,
   "metadata": {},
   "outputs": [],
   "source": [
    "tf_idf = pd.read_csv(r'C:\\Users\\User\\forum_1000_tf_idf.csv', encoding ='utf-8')\n",
    "id_df = tf_idf['id']\n",
    "res = pd.merge(label_df, id_df, on=['id'], how='outer')\n"
   ]
  },
  {
   "cell_type": "code",
   "execution_count": 51,
   "metadata": {},
   "outputs": [
    {
     "data": {
      "text/plain": [
       "498"
      ]
     },
     "execution_count": 51,
     "metadata": {},
     "output_type": "execute_result"
    }
   ],
   "source": [
    "res['label'] = res['label'].fillna('X')\n",
    "y = res\n",
    "del res\n",
    "\n",
    "human_label_data_df = y[y['label'].isin([0,1,2])]\n",
    "human_label_data_id = human_label_data_df['id'].tolist()\n",
    "len(human_label_data_id)"
   ]
  },
  {
   "cell_type": "code",
   "execution_count": 58,
   "metadata": {},
   "outputs": [
    {
     "name": "stdout",
     "output_type": "stream",
     "text": [
      "(498, 1001) (25064, 1001)\n",
      "(498, 2) (25064, 2)\n"
     ]
    }
   ],
   "source": [
    "X_labeled = tf_idf[ tf_idf['id'].isin(human_label_data_id)]\n",
    "X_unlabeled = tf_idf[ ~tf_idf['id'].isin(human_label_data_id)]\n",
    "print(X_labeled.shape, X_unlabeled.shape)\n",
    "y_labeled = y[ y['id'].isin(human_label_data_id)]\n",
    "y_unlabeled = y[ ~y['id'].isin(human_label_data_id)]\n",
    "print(y_labeled.shape, y_unlabeled.shape)"
   ]
  },
  {
   "cell_type": "code",
   "execution_count": 59,
   "metadata": {},
   "outputs": [
    {
     "name": "stderr",
     "output_type": "stream",
     "text": [
      "c:\\users\\user\\appdata\\local\\programs\\python\\python37\\lib\\site-packages\\ipykernel_launcher.py:11: DataConversionWarning: A column-vector y was passed when a 1d array was expected. Please change the shape of y to (n_samples,), for example using ravel().\n",
      "  # This is added back by InteractiveShellApp.init_path()\n"
     ]
    },
    {
     "name": "stdout",
     "output_type": "stream",
     "text": [
      "0.9859437751004017\n"
     ]
    }
   ],
   "source": [
    "import numpy as np\n",
    "        \n",
    "\n",
    "x_train = x_test = X_labeled.iloc[:, 1:]\n",
    "y_train = y_test = y_labeled.iloc[:, 1:].values.tolist()\n",
    "\n",
    "from sklearn.ensemble import RandomForestClassifier\n",
    "forest = RandomForestClassifier(criterion = 'entropy', n_estimators =10, random_state = 1, n_jobs = 2)\n",
    "\n",
    "#fit\n",
    "forest.fit(x_train,y_train)\n",
    "\n",
    "#score \n",
    "print(forest.score(x_test, y_test))"
   ]
  },
  {
   "cell_type": "code",
   "execution_count": 35,
   "metadata": {},
   "outputs": [
    {
     "name": "stdout",
     "output_type": "stream",
     "text": [
      "(25562, 1001) (25562, 2)\n"
     ]
    },
    {
     "name": "stderr",
     "output_type": "stream",
     "text": [
      "c:\\users\\user\\appdata\\local\\programs\\python\\python37\\lib\\site-packages\\ipykernel_launcher.py:2: SettingWithCopyWarning: \n",
      "A value is trying to be set on a copy of a slice from a DataFrame.\n",
      "Try using .loc[row_indexer,col_indexer] = value instead\n",
      "\n",
      "See the caveats in the documentation: http://pandas.pydata.org/pandas-docs/stable/indexing.html#indexing-view-versus-copy\n",
      "  \n"
     ]
    }
   ],
   "source": [
    "y_pesudo_label = forest.predict(X_unlabeled.iloc[:, 1:])\n",
    "y_unlabeled['label'] = y_pesudo_label\n",
    "X = X_labeled.append(X_unlabeled, ignore_index=True)\n",
    "Y = y_labeled.append(y_unlabeled, ignore_index=True)\n",
    "print(X.shape, Y.shape)"
   ]
  },
  {
   "cell_type": "code",
   "execution_count": 36,
   "metadata": {},
   "outputs": [
    {
     "name": "stderr",
     "output_type": "stream",
     "text": [
      "c:\\users\\user\\appdata\\local\\programs\\python\\python37\\lib\\site-packages\\ipykernel_launcher.py:11: DataConversionWarning: A column-vector y was passed when a 1d array was expected. Please change the shape of y to (n_samples,), for example using ravel().\n",
      "  # This is added back by InteractiveShellApp.init_path()\n"
     ]
    },
    {
     "name": "stdout",
     "output_type": "stream",
     "text": [
      "0.9558232931726908\n"
     ]
    },
    {
     "name": "stderr",
     "output_type": "stream",
     "text": [
      "c:\\users\\user\\appdata\\local\\programs\\python\\python37\\lib\\site-packages\\ipykernel_launcher.py:25: SettingWithCopyWarning: \n",
      "A value is trying to be set on a copy of a slice from a DataFrame.\n",
      "Try using .loc[row_indexer,col_indexer] = value instead\n",
      "\n",
      "See the caveats in the documentation: http://pandas.pydata.org/pandas-docs/stable/indexing.html#indexing-view-versus-copy\n",
      "c:\\users\\user\\appdata\\local\\programs\\python\\python37\\lib\\site-packages\\ipykernel_launcher.py:11: DataConversionWarning: A column-vector y was passed when a 1d array was expected. Please change the shape of y to (n_samples,), for example using ravel().\n",
      "  # This is added back by InteractiveShellApp.init_path()\n"
     ]
    },
    {
     "name": "stdout",
     "output_type": "stream",
     "text": [
      "0.9598393574297188\n"
     ]
    },
    {
     "name": "stderr",
     "output_type": "stream",
     "text": [
      "c:\\users\\user\\appdata\\local\\programs\\python\\python37\\lib\\site-packages\\ipykernel_launcher.py:25: SettingWithCopyWarning: \n",
      "A value is trying to be set on a copy of a slice from a DataFrame.\n",
      "Try using .loc[row_indexer,col_indexer] = value instead\n",
      "\n",
      "See the caveats in the documentation: http://pandas.pydata.org/pandas-docs/stable/indexing.html#indexing-view-versus-copy\n",
      "c:\\users\\user\\appdata\\local\\programs\\python\\python37\\lib\\site-packages\\ipykernel_launcher.py:11: DataConversionWarning: A column-vector y was passed when a 1d array was expected. Please change the shape of y to (n_samples,), for example using ravel().\n",
      "  # This is added back by InteractiveShellApp.init_path()\n"
     ]
    },
    {
     "name": "stdout",
     "output_type": "stream",
     "text": [
      "0.9578313253012049\n"
     ]
    }
   ],
   "source": [
    "forest_list = []\n",
    "max_score = 0\n",
    "while True:\n",
    "    x_train  = X.iloc[:, 1:]\n",
    "    y_train  = Y.iloc[:, 1:].values.tolist()\n",
    "\n",
    "\n",
    "    forest = RandomForestClassifier(criterion = 'entropy', n_estimators =10, random_state = 1, n_jobs = 4)\n",
    "\n",
    "    #fit\n",
    "    forest.fit(x_train,y_train)\n",
    "    forest_list.append(forest)\n",
    "\n",
    "    #score\n",
    "    tem_score = forest.score(x_test, y_test)\n",
    "    print(tem_score)\n",
    "    \n",
    "    if tem_score > max_score:\n",
    "        max_score = tem_score\n",
    "    \n",
    "    else:\n",
    "        break\n",
    "        \n",
    "    # update pesudo labeling\n",
    "    y_unlabeled['label'] = forest.predict(X_unlabeled.iloc[:, 1:])\n",
    "    Y = y_labeled.append(y_unlabeled, ignore_index=True)\n"
   ]
  },
  {
   "cell_type": "code",
   "execution_count": 38,
   "metadata": {},
   "outputs": [
    {
     "name": "stderr",
     "output_type": "stream",
     "text": [
      "c:\\users\\user\\appdata\\local\\programs\\python\\python37\\lib\\site-packages\\ipykernel_launcher.py:1: SettingWithCopyWarning: \n",
      "A value is trying to be set on a copy of a slice from a DataFrame.\n",
      "Try using .loc[row_indexer,col_indexer] = value instead\n",
      "\n",
      "See the caveats in the documentation: http://pandas.pydata.org/pandas-docs/stable/indexing.html#indexing-view-versus-copy\n",
      "  \"\"\"Entry point for launching an IPython kernel.\n"
     ]
    }
   ],
   "source": [
    "y_unlabeled['label'] = forest_list[-2].predict(X_unlabeled.iloc[:, 1:])\n",
    "Y = y_labeled.append(y_unlabeled, ignore_index=True)\n",
    "Y.to_csv('forum_labeled.csv', index = False)"
   ]
  },
  {
   "cell_type": "code",
   "execution_count": 42,
   "metadata": {},
   "outputs": [],
   "source": [
    "Y\n",
    "df33 = pd.read_csv(r'C:\\Users\\User\\Documents\\GitHub\\Big_data_analytics\\mid project\\data\\labeled\\forum_labeled.csv')\n",
    "df34 =  pd.merge(df33, Y, on=['id'], how='outer')"
   ]
  },
  {
   "cell_type": "code",
   "execution_count": null,
   "metadata": {},
   "outputs": [],
   "source": []
  }
 ],
 "metadata": {
  "kernelspec": {
   "display_name": "Python 3",
   "language": "python",
   "name": "python3"
  },
  "language_info": {
   "codemirror_mode": {
    "name": "ipython",
    "version": 3
   },
   "file_extension": ".py",
   "mimetype": "text/x-python",
   "name": "python",
   "nbconvert_exporter": "python",
   "pygments_lexer": "ipython3",
   "version": "3.7.0"
  }
 },
 "nbformat": 4,
 "nbformat_minor": 2
}
